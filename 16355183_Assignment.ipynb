{
  "nbformat": 4,
  "nbformat_minor": 0,
  "metadata": {
    "colab": {
      "provenance": [],
      "include_colab_link": true
    },
    "kernelspec": {
      "name": "python3",
      "display_name": "Python 3"
    },
    "language_info": {
      "name": "python"
    }
  },
  "cells": [
    {
      "cell_type": "markdown",
      "metadata": {
        "id": "view-in-github",
        "colab_type": "text"
      },
      "source": [
        "<a href=\"https://colab.research.google.com/github/SUNILREDDY3/isa-assignments/blob/main/16355183_Assignment.ipynb\" target=\"_parent\"><img src=\"https://colab.research.google.com/assets/colab-badge.svg\" alt=\"Open In Colab\"/></a>"
      ]
    },
    {
      "cell_type": "code",
      "execution_count": null,
      "metadata": {
        "colab": {
          "base_uri": "https://localhost:8080/"
        },
        "id": "Z6nUazbpYAMH",
        "outputId": "675ae7c0-a73e-4c19-b9f1-8b49a6a47451"
      },
      "outputs": [
        {
          "output_type": "stream",
          "name": "stdout",
          "text": [
            "      Unnamed: 0                              Name    Location  Year  \\\n",
            "0              1  Hyundai Creta 1.6 CRDi SX Option        Pune  2015   \n",
            "1              2                      Honda Jazz V     Chennai  2011   \n",
            "2              3                 Maruti Ertiga VDI     Chennai  2012   \n",
            "3              4   Audi A4 New 2.0 TDI Multitronic  Coimbatore  2013   \n",
            "4              6            Nissan Micra Diesel XV      Jaipur  2013   \n",
            "...          ...                               ...         ...   ...   \n",
            "5842        6014                  Maruti Swift VDI       Delhi  2014   \n",
            "5843        6015          Hyundai Xcent 1.1 CRDi S      Jaipur  2015   \n",
            "5844        6016             Mahindra Xylo D4 BSIV      Jaipur  2012   \n",
            "5845        6017                Maruti Wagon R VXI     Kolkata  2013   \n",
            "5846        6018             Chevrolet Beat Diesel   Hyderabad  2011   \n",
            "\n",
            "      Kilometers_Driven Fuel_Type Transmission Owner_Type     Mileage  \\\n",
            "0                 41000    Diesel       Manual      First  19.67 kmpl   \n",
            "1                 46000    Petrol       Manual      First    13 km/kg   \n",
            "2                 87000    Diesel       Manual      First  20.77 kmpl   \n",
            "3                 40670    Diesel    Automatic     Second   15.2 kmpl   \n",
            "4                 86999    Diesel       Manual      First  23.08 kmpl   \n",
            "...                 ...       ...          ...        ...         ...   \n",
            "5842              27365    Diesel       Manual      First   28.4 kmpl   \n",
            "5843             100000    Diesel       Manual      First   24.4 kmpl   \n",
            "5844              55000    Diesel       Manual     Second   14.0 kmpl   \n",
            "5845              46000    Petrol       Manual      First   18.9 kmpl   \n",
            "5846              47000    Diesel       Manual      First  25.44 kmpl   \n",
            "\n",
            "       Engine      Power  Seats  New_Price  Price  \n",
            "0     1582 CC  126.2 bhp    5.0        NaN  12.50  \n",
            "1     1199 CC   88.7 bhp    5.0  8.61 Lakh   4.50  \n",
            "2     1248 CC  88.76 bhp    7.0        NaN   6.00  \n",
            "3     1968 CC  140.8 bhp    5.0        NaN  17.74  \n",
            "4     1461 CC   63.1 bhp    5.0        NaN   3.50  \n",
            "...       ...        ...    ...        ...    ...  \n",
            "5842  1248 CC     74 bhp    5.0  7.88 Lakh   4.75  \n",
            "5843  1120 CC     71 bhp    5.0        NaN   4.00  \n",
            "5844  2498 CC    112 bhp    8.0        NaN   2.90  \n",
            "5845   998 CC   67.1 bhp    5.0        NaN   2.65  \n",
            "5846   936 CC   57.6 bhp    5.0        NaN   2.50  \n",
            "\n",
            "[5847 rows x 14 columns]\n"
          ]
        }
      ],
      "source": [
        "import pandas as pd\n",
        "import numpy as np\n",
        "\n",
        "# Load the CSV file into a DataFrame\n",
        "df = pd.read_csv('train.csv')\n",
        "\n",
        "# Display the first few rows of the DataFrame\n",
        "print(df)\n",
        "#"
      ]
    },
    {
      "cell_type": "code",
      "source": [
        "rows, columns = df.shape\n",
        "\n",
        "print(f\"Number of rows: {rows}\")\n",
        "print(f\"Number of columns: {columns}\")"
      ],
      "metadata": {
        "colab": {
          "base_uri": "https://localhost:8080/"
        },
        "id": "22r_SjiBYrqi",
        "outputId": "687ab655-5d32-4744-f51f-1eafe194b81d"
      },
      "execution_count": null,
      "outputs": [
        {
          "output_type": "stream",
          "name": "stdout",
          "text": [
            "Number of rows: 5847\n",
            "Number of columns: 14\n"
          ]
        }
      ]
    },
    {
      "cell_type": "code",
      "source": [
        "missing_values = df.isnull().sum()\n",
        "print(\"Missing values per column:\\n\", missing_values)"
      ],
      "metadata": {
        "colab": {
          "base_uri": "https://localhost:8080/"
        },
        "id": "Mdkx3ZfCSHU8",
        "outputId": "18a699d3-129d-48c4-a19c-b20141afd5fe"
      },
      "execution_count": null,
      "outputs": [
        {
          "output_type": "stream",
          "name": "stdout",
          "text": [
            "Missing values per column:\n",
            " Unnamed: 0              0\n",
            "Name                    0\n",
            "Location                0\n",
            "Year                    0\n",
            "Kilometers_Driven       0\n",
            "Fuel_Type               0\n",
            "Transmission            0\n",
            "Owner_Type              0\n",
            "Mileage                 2\n",
            "Engine                 36\n",
            "Power                  36\n",
            "Seats                  38\n",
            "New_Price            5032\n",
            "Price                   0\n",
            "dtype: int64\n"
          ]
        }
      ]
    },
    {
      "cell_type": "code",
      "source": [
        "# Clean and convert 'Power' column\n",
        "df['Power'] = df['Power'].astype(str).str.replace(' bhp', '')  # Convert to string first, then remove ' bhp'\n",
        "df['Power'] = pd.to_numeric(df['Power'], errors='coerce')       # Convert to float, with errors converted to NaN\n",
        "df['Power'].fillna(df['Power'].median())          # Impute missing values with the median\n",
        "\n",
        "# Clean and convert 'Mileage' column\n",
        "df['Mileage'] = df['Mileage'].astype(str).str.replace(' kmpl', '').str.replace(' km/kg', '')  # Convert to string first, then clean up\n",
        "df['Mileage'] = pd.to_numeric(df['Mileage'], errors='coerce')    # Convert to float, with errors converted to NaN\n",
        "df['Mileage'].fillna(df['Mileage'].median())       # Impute missing values with the median\n",
        "\n",
        "#Since the mean might be distorted by extreme numbers (outliers), the median is employed instead. The median more accurately depicts the central tendency for continuous numerical data than the mode, which just displays the most prevalent value."
      ],
      "metadata": {
        "colab": {
          "base_uri": "https://localhost:8080/",
          "height": 458
        },
        "id": "gjlD4e48V-xP",
        "outputId": "957cc5ae-f8a1-4abc-8aff-c70386d7067a"
      },
      "execution_count": null,
      "outputs": [
        {
          "output_type": "execute_result",
          "data": {
            "text/plain": [
              "0       19.67\n",
              "1       13.00\n",
              "2       20.77\n",
              "3       15.20\n",
              "4       23.08\n",
              "        ...  \n",
              "5842    28.40\n",
              "5843    24.40\n",
              "5844    14.00\n",
              "5845    18.90\n",
              "5846    25.44\n",
              "Name: Mileage, Length: 5847, dtype: float64"
            ],
            "text/html": [
              "<div>\n",
              "<style scoped>\n",
              "    .dataframe tbody tr th:only-of-type {\n",
              "        vertical-align: middle;\n",
              "    }\n",
              "\n",
              "    .dataframe tbody tr th {\n",
              "        vertical-align: top;\n",
              "    }\n",
              "\n",
              "    .dataframe thead th {\n",
              "        text-align: right;\n",
              "    }\n",
              "</style>\n",
              "<table border=\"1\" class=\"dataframe\">\n",
              "  <thead>\n",
              "    <tr style=\"text-align: right;\">\n",
              "      <th></th>\n",
              "      <th>Mileage</th>\n",
              "    </tr>\n",
              "  </thead>\n",
              "  <tbody>\n",
              "    <tr>\n",
              "      <th>0</th>\n",
              "      <td>19.67</td>\n",
              "    </tr>\n",
              "    <tr>\n",
              "      <th>1</th>\n",
              "      <td>13.00</td>\n",
              "    </tr>\n",
              "    <tr>\n",
              "      <th>2</th>\n",
              "      <td>20.77</td>\n",
              "    </tr>\n",
              "    <tr>\n",
              "      <th>3</th>\n",
              "      <td>15.20</td>\n",
              "    </tr>\n",
              "    <tr>\n",
              "      <th>4</th>\n",
              "      <td>23.08</td>\n",
              "    </tr>\n",
              "    <tr>\n",
              "      <th>...</th>\n",
              "      <td>...</td>\n",
              "    </tr>\n",
              "    <tr>\n",
              "      <th>5842</th>\n",
              "      <td>28.40</td>\n",
              "    </tr>\n",
              "    <tr>\n",
              "      <th>5843</th>\n",
              "      <td>24.40</td>\n",
              "    </tr>\n",
              "    <tr>\n",
              "      <th>5844</th>\n",
              "      <td>14.00</td>\n",
              "    </tr>\n",
              "    <tr>\n",
              "      <th>5845</th>\n",
              "      <td>18.90</td>\n",
              "    </tr>\n",
              "    <tr>\n",
              "      <th>5846</th>\n",
              "      <td>25.44</td>\n",
              "    </tr>\n",
              "  </tbody>\n",
              "</table>\n",
              "<p>5847 rows × 1 columns</p>\n",
              "</div><br><label><b>dtype:</b> float64</label>"
            ]
          },
          "metadata": {},
          "execution_count": 67
        }
      ]
    },
    {
      "cell_type": "code",
      "source": [
        "# Clean and convert 'Engine' column\n",
        "df['Engine'] = df['Engine'].astype(str).str.replace(' CC', '')\n",
        "df['Engine'] = pd.to_numeric(df['Engine'], errors='coerce')\n",
        "df['Engine'].fillna(df['Engine'].median())"
      ],
      "metadata": {
        "colab": {
          "base_uri": "https://localhost:8080/",
          "height": 458
        },
        "id": "wwr0OG5vZe4Y",
        "outputId": "4615dd49-235d-4fd3-d7de-25c3ad35ce50"
      },
      "execution_count": null,
      "outputs": [
        {
          "output_type": "execute_result",
          "data": {
            "text/plain": [
              "0       1582.0\n",
              "1       1199.0\n",
              "2       1248.0\n",
              "3       1968.0\n",
              "4       1461.0\n",
              "         ...  \n",
              "5842    1248.0\n",
              "5843    1120.0\n",
              "5844    2498.0\n",
              "5845     998.0\n",
              "5846     936.0\n",
              "Name: Engine, Length: 5847, dtype: float64"
            ],
            "text/html": [
              "<div>\n",
              "<style scoped>\n",
              "    .dataframe tbody tr th:only-of-type {\n",
              "        vertical-align: middle;\n",
              "    }\n",
              "\n",
              "    .dataframe tbody tr th {\n",
              "        vertical-align: top;\n",
              "    }\n",
              "\n",
              "    .dataframe thead th {\n",
              "        text-align: right;\n",
              "    }\n",
              "</style>\n",
              "<table border=\"1\" class=\"dataframe\">\n",
              "  <thead>\n",
              "    <tr style=\"text-align: right;\">\n",
              "      <th></th>\n",
              "      <th>Engine</th>\n",
              "    </tr>\n",
              "  </thead>\n",
              "  <tbody>\n",
              "    <tr>\n",
              "      <th>0</th>\n",
              "      <td>1582.0</td>\n",
              "    </tr>\n",
              "    <tr>\n",
              "      <th>1</th>\n",
              "      <td>1199.0</td>\n",
              "    </tr>\n",
              "    <tr>\n",
              "      <th>2</th>\n",
              "      <td>1248.0</td>\n",
              "    </tr>\n",
              "    <tr>\n",
              "      <th>3</th>\n",
              "      <td>1968.0</td>\n",
              "    </tr>\n",
              "    <tr>\n",
              "      <th>4</th>\n",
              "      <td>1461.0</td>\n",
              "    </tr>\n",
              "    <tr>\n",
              "      <th>...</th>\n",
              "      <td>...</td>\n",
              "    </tr>\n",
              "    <tr>\n",
              "      <th>5842</th>\n",
              "      <td>1248.0</td>\n",
              "    </tr>\n",
              "    <tr>\n",
              "      <th>5843</th>\n",
              "      <td>1120.0</td>\n",
              "    </tr>\n",
              "    <tr>\n",
              "      <th>5844</th>\n",
              "      <td>2498.0</td>\n",
              "    </tr>\n",
              "    <tr>\n",
              "      <th>5845</th>\n",
              "      <td>998.0</td>\n",
              "    </tr>\n",
              "    <tr>\n",
              "      <th>5846</th>\n",
              "      <td>936.0</td>\n",
              "    </tr>\n",
              "  </tbody>\n",
              "</table>\n",
              "<p>5847 rows × 1 columns</p>\n",
              "</div><br><label><b>dtype:</b> float64</label>"
            ]
          },
          "metadata": {},
          "execution_count": 68
        }
      ]
    },
    {
      "cell_type": "code",
      "source": [
        "# Fill missing values in 'Seats' with mode\n",
        "df['Seats'].fillna(df['Seats'].mode()[0])\n",
        "#The mode is selected because the number of seats is a categorical, discrete value, and it maintains logical consistency to choose the most common count."
      ],
      "metadata": {
        "colab": {
          "base_uri": "https://localhost:8080/",
          "height": 458
        },
        "id": "nZAW21pcapls",
        "outputId": "9a0532b5-9a97-4dcc-b6ee-8aeecf58c13f"
      },
      "execution_count": null,
      "outputs": [
        {
          "output_type": "execute_result",
          "data": {
            "text/plain": [
              "0       5.0\n",
              "1       5.0\n",
              "2       7.0\n",
              "3       5.0\n",
              "4       5.0\n",
              "       ... \n",
              "5842    5.0\n",
              "5843    5.0\n",
              "5844    8.0\n",
              "5845    5.0\n",
              "5846    5.0\n",
              "Name: Seats, Length: 5847, dtype: float64"
            ],
            "text/html": [
              "<div>\n",
              "<style scoped>\n",
              "    .dataframe tbody tr th:only-of-type {\n",
              "        vertical-align: middle;\n",
              "    }\n",
              "\n",
              "    .dataframe tbody tr th {\n",
              "        vertical-align: top;\n",
              "    }\n",
              "\n",
              "    .dataframe thead th {\n",
              "        text-align: right;\n",
              "    }\n",
              "</style>\n",
              "<table border=\"1\" class=\"dataframe\">\n",
              "  <thead>\n",
              "    <tr style=\"text-align: right;\">\n",
              "      <th></th>\n",
              "      <th>Seats</th>\n",
              "    </tr>\n",
              "  </thead>\n",
              "  <tbody>\n",
              "    <tr>\n",
              "      <th>0</th>\n",
              "      <td>5.0</td>\n",
              "    </tr>\n",
              "    <tr>\n",
              "      <th>1</th>\n",
              "      <td>5.0</td>\n",
              "    </tr>\n",
              "    <tr>\n",
              "      <th>2</th>\n",
              "      <td>7.0</td>\n",
              "    </tr>\n",
              "    <tr>\n",
              "      <th>3</th>\n",
              "      <td>5.0</td>\n",
              "    </tr>\n",
              "    <tr>\n",
              "      <th>4</th>\n",
              "      <td>5.0</td>\n",
              "    </tr>\n",
              "    <tr>\n",
              "      <th>...</th>\n",
              "      <td>...</td>\n",
              "    </tr>\n",
              "    <tr>\n",
              "      <th>5842</th>\n",
              "      <td>5.0</td>\n",
              "    </tr>\n",
              "    <tr>\n",
              "      <th>5843</th>\n",
              "      <td>5.0</td>\n",
              "    </tr>\n",
              "    <tr>\n",
              "      <th>5844</th>\n",
              "      <td>8.0</td>\n",
              "    </tr>\n",
              "    <tr>\n",
              "      <th>5845</th>\n",
              "      <td>5.0</td>\n",
              "    </tr>\n",
              "    <tr>\n",
              "      <th>5846</th>\n",
              "      <td>5.0</td>\n",
              "    </tr>\n",
              "  </tbody>\n",
              "</table>\n",
              "<p>5847 rows × 1 columns</p>\n",
              "</div><br><label><b>dtype:</b> float64</label>"
            ]
          },
          "metadata": {},
          "execution_count": 69
        }
      ]
    },
    {
      "cell_type": "code",
      "source": [
        "categorical_cols = ['Fuel_Type', 'Transmission', 'Owner_Type', 'Location']\n",
        "data = pd.get_dummies(df, columns=categorical_cols, drop_first=True)\n",
        "\n",
        "print(data.head())"
      ],
      "metadata": {
        "colab": {
          "base_uri": "https://localhost:8080/"
        },
        "id": "-lVemxIQyYbT",
        "outputId": "24b5547d-225e-49f7-ddf1-afe4bd395f17"
      },
      "execution_count": null,
      "outputs": [
        {
          "output_type": "stream",
          "name": "stdout",
          "text": [
            "   Unnamed: 0                              Name  Year  Kilometers_Driven  \\\n",
            "0           1  Hyundai Creta 1.6 CRDi SX Option  2015              41000   \n",
            "1           2                      Honda Jazz V  2011              46000   \n",
            "2           3                 Maruti Ertiga VDI  2012              87000   \n",
            "3           4   Audi A4 New 2.0 TDI Multitronic  2013              40670   \n",
            "4           6            Nissan Micra Diesel XV  2013              86999   \n",
            "\n",
            "   Mileage  Engine   Power  Seats  New_Price  Price  ...  Location_Bangalore  \\\n",
            "0    19.67  1582.0  126.20    5.0        NaN  12.50  ...               False   \n",
            "1    13.00  1199.0   88.70    5.0  8.61 Lakh   4.50  ...               False   \n",
            "2    20.77  1248.0   88.76    7.0        NaN   6.00  ...               False   \n",
            "3    15.20  1968.0  140.80    5.0        NaN  17.74  ...               False   \n",
            "4    23.08  1461.0   63.10    5.0        NaN   3.50  ...               False   \n",
            "\n",
            "   Location_Chennai  Location_Coimbatore  Location_Delhi  Location_Hyderabad  \\\n",
            "0             False                False           False               False   \n",
            "1              True                False           False               False   \n",
            "2              True                False           False               False   \n",
            "3             False                 True           False               False   \n",
            "4             False                False           False               False   \n",
            "\n",
            "   Location_Jaipur  Location_Kochi  Location_Kolkata  Location_Mumbai  \\\n",
            "0            False           False             False            False   \n",
            "1            False           False             False            False   \n",
            "2            False           False             False            False   \n",
            "3            False           False             False            False   \n",
            "4             True           False             False            False   \n",
            "\n",
            "   Location_Pune  \n",
            "0           True  \n",
            "1          False  \n",
            "2          False  \n",
            "3          False  \n",
            "4          False  \n",
            "\n",
            "[5 rows x 26 columns]\n"
          ]
        }
      ]
    },
    {
      "cell_type": "code",
      "source": [
        "# Verify that all missing values are handled\n",
        "print(\"Missing values after cleaning:\\n\", df.isnull().sum())\n"
      ],
      "metadata": {
        "colab": {
          "base_uri": "https://localhost:8080/"
        },
        "id": "-YVYJ1SDyrU_",
        "outputId": "886cbb60-6313-46f1-92d1-b454dc3b257a"
      },
      "execution_count": null,
      "outputs": [
        {
          "output_type": "stream",
          "name": "stdout",
          "text": [
            "Missing values after cleaning:\n",
            " Unnamed: 0              0\n",
            "Name                    0\n",
            "Location                0\n",
            "Year                    0\n",
            "Kilometers_Driven       0\n",
            "Fuel_Type               0\n",
            "Transmission            0\n",
            "Owner_Type              0\n",
            "Mileage                 2\n",
            "Engine                 36\n",
            "Power                  36\n",
            "Seats                  38\n",
            "New_Price            5032\n",
            "Price                   0\n",
            "dtype: int64\n"
          ]
        }
      ]
    },
    {
      "cell_type": "code",
      "source": [
        "#adding new feature 'Power_to_weight' ratio to check cars with higher power-to-weight ratio tend to performe better which could be important for pricing metrics\n",
        "data['Power_to_Weight'] = data['Power'] / data['Engine'] * 1000\n",
        "\n",
        "print(data[['Name', 'Power', 'Engine', 'Power_to_Weight']].head())"
      ],
      "metadata": {
        "colab": {
          "base_uri": "https://localhost:8080/"
        },
        "id": "SazvUAPV1d4T",
        "outputId": "b77c82c4-b229-483a-a50c-d549a5a492bf"
      },
      "execution_count": null,
      "outputs": [
        {
          "output_type": "stream",
          "name": "stdout",
          "text": [
            "                               Name   Power  Engine  Power_to_Weight\n",
            "0  Hyundai Creta 1.6 CRDi SX Option  126.20  1582.0        79.772440\n",
            "1                      Honda Jazz V   88.70  1199.0        73.978315\n",
            "2                 Maruti Ertiga VDI   88.76  1248.0        71.121795\n",
            "3   Audi A4 New 2.0 TDI Multitronic  140.80  1968.0        71.544715\n",
            "4            Nissan Micra Diesel XV   63.10  1461.0        43.189596\n"
          ]
        }
      ]
    },
    {
      "cell_type": "code",
      "source": [
        "# Select specific columns\n",
        "selected_data = data[['Name', 'Year', 'Price']]\n",
        "\n",
        "# Filter rows where price is above 10\n",
        "filtered_data = data[data['Price'] > 10]\n",
        "\n",
        "# Rename columns\n",
        "renamed_data = data.rename(columns={'Price': 'Selling_Price', 'Kilometers_Driven': 'Mileage'})\n",
        "\n",
        "# Add a new column for car age\n",
        "data['Car_Age'] = 2024 - data['Year']\n",
        "\n",
        "# Sort by price in descending order\n",
        "arranged_data = data.sort_values(by='Price', ascending=False)\n",
        "\n",
        "# Summarize data: calculate average and max price by location\n",
        "summary_data = data.groupby('Price').agg(\n",
        "    avg_price=('Price', 'mean'),\n",
        "    max_price=('Price', 'max')\n",
        ").reset_index()"
      ],
      "metadata": {
        "id": "BtBE44-l2EM-"
      },
      "execution_count": null,
      "outputs": []
    }
  ]
}